{
 "cells": [
  {
   "cell_type": "markdown",
   "metadata": {},
   "source": [
    "## Sensitivity Calculation\n",
    "![Sensitivoty_Calculation](sensitivity_calculation.png)"
   ]
  },
  {
   "cell_type": "markdown",
   "metadata": {},
   "source": [
    "### Ground Truth Input Structure\n",
    "[start, end, length, copy_number]"
   ]
  },
  {
   "cell_type": "code",
   "execution_count": 74,
   "metadata": {},
   "outputs": [],
   "source": [
    "ground_truths = [[2926194, 2962990, 36797, 7],\n",
    " [6654980, 6661870, 6891, 5],\n",
    " [15242588, 15246371, 3784, 7],\n",
    " [19258605, 19268298, 9694, 8],\n",
    " [24196234, 24241007, 44774, 6],\n",
    " [28979056, 28986107, 7052, 3],\n",
    " [31875212, 32247898, 372687, 2],\n",
    " [37687668, 37697261, 9594, 3],\n",
    " [45795786, 45802094, 6309, 3],\n",
    " [46672709, 46887938, 215230, 2]]"
   ]
  },
  {
   "cell_type": "markdown",
   "metadata": {},
   "source": [
    "### CNVPytor Result Input Structure\n",
    "[type, chromosome, start, end, length, cnv_level, q0]"
   ]
  },
  {
   "cell_type": "code",
   "execution_count": 75,
   "metadata": {},
   "outputs": [],
   "source": [
    "cnv_pytor_calls = [['duplication', 'chr22', 643201, 644800, 1600, 1.718514374302551, 0.0],\n",
    " ['duplication', 'chr22', 1306101, 1325100, 19000, 1.558743594894439, 0.0],\n",
    " ['duplication', 'chr22', 2926301, 2963000, 36700, 1.8470098672244164, 0.0],\n",
    " ['duplication', 'chr22', 6655101, 6661800, 6700, 1.567712576785245, 0.0],\n",
    " ['duplication', 'chr22', 8039401, 8047900, 8500, 2.445822970635835, 0.0],\n",
    " ['duplication', 'chr22', 13480601, 13513300, 32700, 6.0506295711806475, 0.0],\n",
    " ['duplication', 'chr22', 15242601, 15246200, 3600, 1.834909360819113, 0.0],\n",
    " ['duplication', 'chr22', 17447001, 17639900, 192900, 1.2796932767012235, 8.353695466031786e-05],\n",
    " ['duplication', 'chr22', 17641801, 17810700, 168900, 1.2763572110123276, 8.255844268706006e-05],\n",
    " ['duplication', 'chr22', 18662501, 18665900, 3400, 1.851143694198247, 0.0],\n",
    " ['duplication', 'chr22', 18680401, 18682700, 2300, 1.7209608810822625, 0.0],\n",
    " ['duplication', 'chr22', 18704701, 18881400, 176700, 4.102693039635739, 0.00015197185093307483],\n",
    " ['duplication', 'chr22', 19258601, 19268300, 9700, 1.9523681458169895, 0.0],\n",
    " ['duplication', 'chr22', 20331101, 20334800, 3700, 1.3991232450116933, 0.0009050592813829306],\n",
    " ['duplication', 'chr22', 20335901, 20338300, 2400, 1.6514822708792218, 0.0],\n",
    " ['duplication', 'chr22', 20338701, 20344300, 5600, 1.7055432446907377, 0.0012747597568150619],\n",
    " ['duplication', 'chr22', 20345901, 20347800, 1900, 1.5726803684254964, 0.0],\n",
    " ['duplication', 'chr22', 20357501, 20361100, 3600, 1.5470452389043354, 0.0],\n",
    " ['duplication', 'chr22', 20363901, 20366300, 2400, 2.0273673211302174, 0.0],\n",
    " ['duplication', 'chr22', 20495301, 20498100, 2800, 1.781994959452104, 0.0001879169407122052],\n",
    " ['duplication', 'chr22', 20498201, 20502100, 3900, 1.4899127300313342, 0.0023436237271698725],\n",
    " ['duplication', 'chr22', 20609701, 20610700, 1000, 1.9553404808425014, 0.0009608455440787893],\n",
    " ['duplication', 'chr22', 20611301, 20614100, 2800, 1.780134417338603, 0.0],\n",
    " ['duplication', 'chr22', 20614601, 20623700, 9100, 2.3098302903327674, 0.0002233688489803212],\n",
    " ['duplication', 'chr22', 20631901, 20636900, 5000, 2.126733180871415, 0.0],\n",
    " ['duplication', 'chr22', 20640801, 20644400, 3600, 1.7781948924271826, 0.00021955503512880562],\n",
    " ['duplication', 'chr22', 20644501, 20646800, 2300, 2.2675581133699803, 0.0],\n",
    " ['duplication', 'chr22', 20666201, 20668700, 2500, 1.8567633427812786, 0.0006054490413723512],\n",
    " ['duplication', 'chr22', 20669101, 20670600, 1500, 2.0713115376583033, 0.0],\n",
    " ['duplication', 'chr22', 21493201, 21502100, 8900, 2.0591434606734915, 0.00020450420511771772],\n",
    " ['duplication', 'chr22', 21523101, 21524900, 1800, 1.8929159041959602, 0.0],\n",
    " ['duplication', 'chr22', 21539501, 21548000, 8500, 1.6549513495958874, 0.00013316022504078031],\n",
    " ['duplication', 'chr22', 21551401, 21554600, 3200, 1.689024914840532, 0.0],\n",
    " ['duplication', 'chr22', 21574801, 21579100, 4300, 1.9626729917832173, 0.00022198790165935958],\n",
    " ['duplication', 'chr22', 21581801, 21588200, 6400, 2.2521662007272036, 0.00019498245157935785],\n",
    " ['duplication', 'chr22', 21588401, 21591200, 2800, 1.8151071381481005, 0.0],\n",
    " ['duplication', 'chr22', 21592101, 21595100, 3000, 1.8928204236434363, 0.0004948045522018803],\n",
    " ['duplication', 'chr22', 21595401, 21603200, 7800, 2.418296334074343, 4.963148621485471e-05],\n",
    " ['duplication', 'chr22', 21608501, 21614500, 6000, 2.2168575157808985, 0.0],\n",
    " ['duplication', 'chr22', 21617101, 21625200, 8100, 1.9059143703471113, 0.00018209960848584176],\n",
    " ['duplication', 'chr22', 21630301, 21632500, 2200, 1.535664414463866, 0.0],\n",
    " ['duplication', 'chr22', 21642101, 21643500, 1400, 2.153414751765637, 0.0],\n",
    " ['duplication', 'chr22', 21651201, 21654400, 3200, 2.178984779520174, 0.0002015045674368619],\n",
    " ['duplication', 'chr22', 21656601, 21660500, 3900, 1.8595736831866032, 0.0],\n",
    " ['duplication', 'chr22', 21661001, 21663300, 2300, 1.6786982065640248, 0.00024248302618816683],\n",
    " ['duplication', 'chr22', 21666401, 21670300, 3900, 1.680948214414412, 0.0],\n",
    " ['duplication', 'chr22', 21675301, 21678000, 2700, 1.4391257358499956, 0.0],\n",
    " ['duplication', 'chr22', 21698201, 21704600, 6400, 1.561179861359813, 0.0],\n",
    " ['duplication', 'chr22', 23607201, 23613600, 6400, 3.066003323126045, 0.0],\n",
    " ['duplication', 'chr22', 24196301, 24241000, 44700, 1.6964609762926437, 6.796500420147298e-05],\n",
    " ['duplication', 'chr22', 25148101, 25312100, 164000, 1.5503793665219705, 0.00011420151040707312],\n",
    " ['duplication', 'chr22', 28259301, 28261100, 1800, 1.8809569595790652, 0.0],\n",
    " ['duplication', 'chr22', 28466001, 28599400, 133400, 4.573843758486502, 4.6082984702753226e-05],\n",
    " ['duplication', 'chr22', 28608501, 28609700, 1200, 2.7051965335802097, 0.0005766181346403345],\n",
    " ['duplication', 'chr22', 28979101, 28985800, 6700, 1.2735705648140214, 0.0],\n",
    " ['duplication', 'chr22', 30804201, 30979600, 175400, 4.610438297705421, 1.3903903173218301e-05],\n",
    " ['duplication', 'chr22', 33349601, 33357900, 8300, 1.2633783331194872, 0.0],\n",
    " ['duplication', 'chr22', 35940301, 36199600, 259300, 3.166684900200977, 3.309278303458538e-05],\n",
    " ['duplication', 'chr22', 36465901, 36571200, 105300, 1.690562398973434, 7.891684006450136e-05],\n",
    " ['duplication', 'chr22', 37688001, 37697000, 9000, 1.2843752925493517, 0.0],\n",
    " ['duplication', 'chr22', 44149401, 44465300, 315900, 3.160485241150535, 3.0040728656649023e-05],\n",
    " ['duplication', 'chr22', 45429801, 45462800, 33000, 1.964531406739486, 4.335260115606936e-05],\n",
    " ['duplication', 'chr22', 45796001, 45802000, 6000, 1.2573461629150675, 0.0],\n",
    " ['duplication', 'chr22', 46379901, 46674700, 294800, 2.441911088134319, 3.127596149147241e-05],\n",
    " ['duplication', 'chr22', 48050201, 48052500, 2300, 1.7855779788209243, 0.0]]"
   ]
  },
  {
   "cell_type": "code",
   "execution_count": 76,
   "metadata": {},
   "outputs": [],
   "source": [
    "def get_length_category(original_call_size: int)->str:\n",
    "    if original_call_size < 1000:\n",
    "        return \"< 1K\"\n",
    "    elif original_call_size < 10000:\n",
    "        return \"1K - 10K\"\n",
    "    elif original_call_size < 100000:\n",
    "        return \"10K - 100K\"\n",
    "    elif original_call_size < 1000000:\n",
    "        return \"100K - 1M\"\n",
    "    else:\n",
    "        return \"> 1M\""
   ]
  },
  {
   "cell_type": "code",
   "execution_count": 77,
   "metadata": {},
   "outputs": [],
   "source": [
    "def get_event_category(original_call_cnv: str)->str:\n",
    "    if original_call_cnv == 0:\n",
    "        return \"hetelogygous_deletion\"\n",
    "    \n",
    "    elif original_call_cnv == 2:\n",
    "        return \"amplification\"\n",
    "    \n",
    "    elif original_call_cnv >= 3:\n",
    "        return \"high_level_amplification\""
   ]
  },
  {
   "cell_type": "code",
   "execution_count": 78,
   "metadata": {},
   "outputs": [],
   "source": [
    "def get_overlap(cnv_start, cnv_end, gt_start, gt_end):\n",
    "    return max(0, min(cnv_end, gt_end) - max(cnv_start, gt_start))"
   ]
  },
  {
   "cell_type": "code",
   "execution_count": 79,
   "metadata": {},
   "outputs": [],
   "source": [
    "ground_truth_len_dict = dict()\n",
    "overlap_len_dict = dict()\n",
    "\n",
    "\n",
    "ground_truth_event_dict = dict()\n",
    "overlap_event_dict = dict()"
   ]
  },
  {
   "cell_type": "code",
   "execution_count": 80,
   "metadata": {},
   "outputs": [
    {
     "name": "stdout",
     "output_type": "stream",
     "text": [
      "Debug:  ['duplication', 'chr22', 2926301, 2963000, 36700, 1.8470098672244164, 0.0] [2926194, 2962990, 36797, 7] 36689\n",
      "Debug:  ['duplication', 'chr22', 6655101, 6661800, 6700, 1.567712576785245, 0.0] [6654980, 6661870, 6891, 5] 6699\n",
      "Debug:  ['duplication', 'chr22', 15242601, 15246200, 3600, 1.834909360819113, 0.0] [15242588, 15246371, 3784, 7] 3599\n",
      "Debug:  ['duplication', 'chr22', 19258601, 19268300, 9700, 1.9523681458169895, 0.0] [19258605, 19268298, 9694, 8] 9693\n",
      "Debug:  ['duplication', 'chr22', 24196301, 24241000, 44700, 1.6964609762926437, 6.796500420147298e-05] [24196234, 24241007, 44774, 6] 44699\n",
      "Debug:  ['duplication', 'chr22', 28979101, 28985800, 6700, 1.2735705648140214, 0.0] [28979056, 28986107, 7052, 3] 6699\n",
      "Debug:  ['duplication', 'chr22', 37688001, 37697000, 9000, 1.2843752925493517, 0.0] [37687668, 37697261, 9594, 3] 8999\n",
      "Debug:  ['duplication', 'chr22', 45796001, 45802000, 6000, 1.2573461629150675, 0.0] [45795786, 45802094, 6309, 3] 5999\n",
      "Debug:  ['duplication', 'chr22', 46379901, 46674700, 294800, 2.441911088134319, 3.127596149147241e-05] [46672709, 46887938, 215230, 2] 3982\n"
     ]
    }
   ],
   "source": [
    "for ground_truth in ground_truths:\n",
    "    len_category = get_length_category(ground_truth[2])\n",
    "    event_category = get_event_category(ground_truth[3])\n",
    "    ground_truth_start = ground_truth[0]\n",
    "    ground_truth_end = ground_truth[1]\n",
    "    ground_truth_len = ground_truth[2]\n",
    "    ground_truth_copy_number = ground_truth[3]\n",
    "\n",
    "    ground_truth_len_dict[len_category] = (ground_truth_len_dict.get(len_category, 0) + ground_truth[2]) * ground_truth_copy_number\n",
    "    ground_truth_event_dict[event_category] = (ground_truth_event_dict.get(event_category, 0) + ground_truth[2]) * ground_truth_copy_number\n",
    "\n",
    "    for call in cnv_pytor_calls:\n",
    "        call_start = call[2]\n",
    "        call_end = call[3]\n",
    "        call_len = call[4]\n",
    "        call_copy_number = int(call[5])\n",
    "        overlap = 0\n",
    "\n",
    "        if call[0] == \"deletion\" and ground_truth[3] == 0:\n",
    "            overlap = get_overlap(call_start, call_end, ground_truth_start, ground_truth_end)\n",
    "\n",
    "        elif call[0] == \"duplication\" and ground_truth[3] != 0:\n",
    "            overlap = get_overlap(call_start, call_end, ground_truth_start, ground_truth_end) * min(call_copy_number, ground_truth_copy_number)\n",
    "\n",
    "\n",
    "        if overlap > 0:\n",
    "            overlap_len_dict[len_category] = overlap_len_dict.get(len_category, 0) + overlap\n",
    "            overlap_event_dict[event_category] = overlap_event_dict.get(event_category, 0) + overlap\n",
    "\n",
    "        \n",
    "    "
   ]
  },
  {
   "cell_type": "code",
   "execution_count": 81,
   "metadata": {},
   "outputs": [
    {
     "name": "stdout",
     "output_type": "stream",
     "text": [
      "Category: < 1K\n",
      "Overlap length: 0\n",
      "Ground truth length: 0\n",
      "\n",
      "Category: 1K - 10K\n",
      "Overlap length: 41688\n",
      "Ground truth length: 60206949\n",
      "\n",
      "Category: 10K - 100K\n",
      "Overlap length: 81388\n",
      "Ground truth length: 1814118\n",
      "\n",
      "Category: 100K - 1M\n",
      "Overlap length: 3982\n",
      "Ground truth length: 1921208\n",
      "\n",
      "Category: > 1M\n",
      "Overlap length: 0\n",
      "Ground truth length: 0\n",
      "\n"
     ]
    }
   ],
   "source": [
    "for len_category_category in [\"< 1K\", \"1K - 10K\", \"10K - 100K\", \"100K - 1M\", \"> 1M\"]:\n",
    "    print(f\"Category: {len_category_category}\")\n",
    "    print(f\"Overlap length: {overlap_len_dict.get(len_category_category, 0)}\")\n",
    "    print(f\"Ground truth length: {ground_truth_len_dict.get(len_category_category,0)}\")\n",
    "    print()"
   ]
  },
  {
   "cell_type": "code",
   "execution_count": 82,
   "metadata": {},
   "outputs": [
    {
     "name": "stdout",
     "output_type": "stream",
     "text": [
      "Category: hetelogygous_deletion\n",
      "Overlap length: 0\n",
      "Ground truth length: 0\n",
      "\n",
      "Category: amplification\n",
      "Overlap length: 3982\n",
      "Ground truth length: 1921208\n",
      "\n",
      "Category: high_level_amplification\n",
      "Overlap length: 123076\n",
      "Ground truth length: 12050800137\n",
      "\n"
     ]
    }
   ],
   "source": [
    "for event_category in [\"hetelogygous_deletion\", \"amplification\", \"high_level_amplification\"]:\n",
    "    print(f\"Category: {event_category}\")\n",
    "    print(f\"Overlap length: {overlap_event_dict.get(event_category, 0)}\")\n",
    "    print(f\"Ground truth length: {ground_truth_event_dict.get(event_category,0)}\")\n",
    "    print()"
   ]
  }
 ],
 "metadata": {
  "kernelspec": {
   "display_name": "venv",
   "language": "python",
   "name": "python3"
  },
  "language_info": {
   "codemirror_mode": {
    "name": "ipython",
    "version": 3
   },
   "file_extension": ".py",
   "mimetype": "text/x-python",
   "name": "python",
   "nbconvert_exporter": "python",
   "pygments_lexer": "ipython3",
   "version": "3.10.12"
  }
 },
 "nbformat": 4,
 "nbformat_minor": 2
}
