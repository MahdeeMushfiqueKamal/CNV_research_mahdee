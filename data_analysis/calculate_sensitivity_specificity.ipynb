{
 "cells": [
  {
   "cell_type": "markdown",
   "metadata": {},
   "source": [
    "## Sensitivity Calculation\n",
    "![Sensitivoty_Calculation](sensitivity_calculation.png)"
   ]
  },
  {
   "cell_type": "markdown",
   "metadata": {},
   "source": [
    "### Ground Truth Input Structure\n",
    "[start, end, length, copy_number]"
   ]
  },
  {
   "cell_type": "code",
   "execution_count": 38,
   "metadata": {},
   "outputs": [],
   "source": [
    "ground_truths = [[4546217, 4712431, 166215, 8],\n",
    " [4712432, 4713331, 900, 8],\n",
    " [9423992, 9461650, 37659, 6],\n",
    " [13230409, 13395982, 165574, 5],\n",
    " [16742495, 16774178, 31684, 2],\n",
    " [21248357, 21381356, 133000, 8],\n",
    " [27880363, 28164341, 283979, 3],\n",
    " [31151252, 31361623, 210372, 7],\n",
    " [39891284, 39896951, 5668, 8],\n",
    " [43904663, 43911760, 7098, 7],\n",
    " [47552110, 47662433, 110324, 6]]"
   ]
  },
  {
   "cell_type": "markdown",
   "metadata": {},
   "source": [
    "### CNVPytor Result Input Structure\n",
    "[type, chromosome, start, end, length, cnv_level, q0]"
   ]
  },
  {
   "cell_type": "code",
   "execution_count": 39,
   "metadata": {},
   "outputs": [],
   "source": [
    "cnv_pytor_calls = [\n",
    "    ['duplication', 'chr22', 1306001, 1325000, 19000, 1.3450524335588785, 0.0],\n",
    "    ['duplication', 'chr22', 2926001, 2963000, 37000, 3.0065909463957716, 0.0],\n",
    "    ['duplication', 'chr22', 4546001, 4713000, 167000, 1.603548412692582, 0.0],\n",
    "    ['duplication', 'chr22', 6655001, 6662000, 7000, 2.304815518314925, 0.0],\n",
    "    ['duplication', 'chr22', 8040001, 8048000, 8000, 1.8758709383896488, 0.0],\n",
    "    ['duplication', 'chr22', 9424001, 9462000, 38000, 1.4274356086929143, 0.0],\n",
    "    ['duplication', 'chr22', 13231001, 13396000, 165000, 1.3551499097181512, 0.0],\n",
    "    ['duplication', 'chr22', 13481001, 13514000, 33000, 3.9775744327389453, 0.0],\n",
    "    ['duplication', 'chr22', 18705001, 18881000, 176000, 2.8307061227598482, 0.0001409699844933017],\n",
    "    ['duplication', 'chr22', 19259001, 19268000, 9000, 3.299749801238494, 0.0],\n",
    "    ['duplication', 'chr22', 20609001, 20637000, 28000, 1.4968209446549812, 0.00019653186764233822],\n",
    "    ['duplication', 'chr22', 21248001, 21381000, 133000, 1.5518808805623976, 0.00012213659384936043],\n",
    "    ['duplication', 'chr22', 21497001, 21624000, 127000, 1.3935199965360836, 0.0004641057787399061],\n",
    "    ['duplication', 'chr22', 21651001, 21670000, 19000, 1.392935010280004, 0.0004288164665523156],\n",
    "    ['duplication', 'chr22', 23608001, 23613000, 5000, 2.2395907093921554, 0.0],\n",
    "    ['duplication', 'chr22', 24196001, 24241000, 45000, 2.605180827195409, 5.622610390584002e-05],\n",
    "    ['duplication', 'chr22', 25148001, 25312000, 164000, 1.319851913126888, 0.00013501034867059386],\n",
    "    ['duplication', 'chr22', 28466001, 28599000, 133000, 3.1120633931386754, 4.164027770035522e-05],\n",
    "    ['duplication', 'chr22', 28979001, 28986000, 7000, 1.6285899033020252, 0.00014628794343532855],\n",
    "    ['duplication', 'chr22', 30804001, 30979000, 175000, 3.10641204117398, 2.22266563279038e-05],\n",
    "    ['duplication', 'chr22', 31151001, 31362000, 211000, 1.4792009818563616, 4.94008819821751e-05],\n",
    "    ['duplication', 'chr22', 31875001, 32248000, 373000, 1.3163872423636338, 8.079583901429077e-05],\n",
    "    ['duplication', 'chr22', 35940001, 36200000, 260000, 2.274153375779643, 3.832388166707016e-05],\n",
    "    ['duplication', 'chr22', 36466001, 36571000, 105000, 1.4034107114914411, 0.00011599756030937672],\n",
    "    ['duplication', 'chr22', 37688001, 37697000, 9000, 1.6320950738500621, 0.0],\n",
    "    ['duplication', 'chr22', 40850001, 40868000, 18000, 1.4794298343926993, 2.0793695351569404e-05],\n",
    "    ['duplication', 'chr22', 43505001, 43899000, 394000, 1.466877844689757, 0.00027259394434445654],\n",
    "    ['duplication', 'chr22', 44149001, 44465000, 316000, 2.2604710289320713, 3.5430020318346436e-05],\n",
    "    ['duplication', 'chr22', 45430001, 45463000, 33000, 1.5578689660366496, 9.606045404574612e-05],\n",
    "    ['duplication', 'chr22', 46380001, 46888000, 508000, 1.607354194514808, 4.951160813034132e-05],\n",
    "    ['duplication', 'chr22', 47552001, 47662000, 110000, 1.3947272296965654, 1.7921436008824514e-05]\n",
    "]"
   ]
  },
  {
   "cell_type": "code",
   "execution_count": 40,
   "metadata": {},
   "outputs": [],
   "source": [
    "def get_length_category(original_call_size: int)->str:\n",
    "    if original_call_size < 1000:\n",
    "        return \"< 1K\"\n",
    "    elif original_call_size < 10000:\n",
    "        return \"1K - 10K\"\n",
    "    elif original_call_size < 100000:\n",
    "        return \"10K - 100K\"\n",
    "    elif original_call_size < 1000000:\n",
    "        return \"100K - 1M\"\n",
    "    else:\n",
    "        return \"> 1M\""
   ]
  },
  {
   "cell_type": "code",
   "execution_count": 41,
   "metadata": {},
   "outputs": [],
   "source": [
    "def get_event_category(original_call_cnv: str)->str:\n",
    "    if original_call_cnv == 0:\n",
    "        return \"hetelogygous_deletion\"\n",
    "    \n",
    "    elif original_call_cnv == 2:\n",
    "        return \"amplification\"\n",
    "    \n",
    "    elif original_call_cnv >= 3:\n",
    "        return \"high_level_amplification\""
   ]
  },
  {
   "cell_type": "code",
   "execution_count": 42,
   "metadata": {},
   "outputs": [],
   "source": [
    "def get_overlap(cnv_start, cnv_end, gt_start, gt_end):\n",
    "    return max(0, min(cnv_end, gt_end) - max(cnv_start, gt_start))"
   ]
  },
  {
   "cell_type": "code",
   "execution_count": 43,
   "metadata": {},
   "outputs": [],
   "source": [
    "ground_truth_len_dict = dict()\n",
    "overlap_len_dict = dict()\n",
    "\n",
    "\n",
    "ground_truth_event_dict = dict()\n",
    "overlap_event_dict = dict()"
   ]
  },
  {
   "cell_type": "code",
   "execution_count": 44,
   "metadata": {},
   "outputs": [
    {
     "name": "stdout",
     "output_type": "stream",
     "text": [
      "Debug:  ['duplication', 'chr22', 4546001, 4713000, 167000, 1.603548412692582, 0.0] [4546217, 4712431, 166215, 8] 166214\n",
      "Debug:  ['duplication', 'chr22', 4546001, 4713000, 167000, 1.603548412692582, 0.0] [4712432, 4713331, 900, 8] 568\n",
      "Debug:  ['duplication', 'chr22', 9424001, 9462000, 38000, 1.4274356086929143, 0.0] [9423992, 9461650, 37659, 6] 37649\n",
      "Debug:  ['duplication', 'chr22', 13231001, 13396000, 165000, 1.3551499097181512, 0.0] [13230409, 13395982, 165574, 5] 164981\n",
      "Debug:  ['duplication', 'chr22', 21248001, 21381000, 133000, 1.5518808805623976, 0.00012213659384936043] [21248357, 21381356, 133000, 8] 132643\n",
      "Debug:  ['duplication', 'chr22', 31151001, 31362000, 211000, 1.4792009818563616, 4.94008819821751e-05] [31151252, 31361623, 210372, 7] 210371\n",
      "Debug:  ['duplication', 'chr22', 47552001, 47662000, 110000, 1.3947272296965654, 1.7921436008824514e-05] [47552110, 47662433, 110324, 6] 109890\n"
     ]
    }
   ],
   "source": [
    "for ground_truth in ground_truths:\n",
    "    len_category = get_length_category(ground_truth[2])\n",
    "    event_category = get_event_category(ground_truth[3])\n",
    "    ground_truth_start = ground_truth[0]\n",
    "    ground_truth_end = ground_truth[1]\n",
    "    ground_truth_len = ground_truth[2]\n",
    "    ground_truth_copy_number = ground_truth[3]\n",
    "\n",
    "    ground_truth_len_dict[len_category] = (ground_truth_len_dict.get(len_category, 0) + ground_truth[2]) * ground_truth_copy_number\n",
    "    ground_truth_event_dict[event_category] = (ground_truth_event_dict.get(event_category, 0) + ground_truth[2]) * ground_truth_copy_number\n",
    "\n",
    "    for call in cnv_pytor_calls:\n",
    "        call_start = call[2]\n",
    "        call_end = call[3]\n",
    "        call_len = call[4]\n",
    "        call_copy_number = int(call[5])\n",
    "        overlap = 0\n",
    "\n",
    "        if call[0] == \"deletion\" and ground_truth[3] == 0:\n",
    "            overlap = get_overlap(call_start, call_end, ground_truth_start, ground_truth_end)\n",
    "\n",
    "        elif call[0] == \"duplication\" and ground_truth[3] != 0:\n",
    "            overlap = get_overlap(call_start, call_end, ground_truth_start, ground_truth_end) * min(call_copy_number, ground_truth_copy_number)\n",
    "\n",
    "\n",
    "        if overlap > 0:\n",
    "            overlap_len_dict[len_category] = overlap_len_dict.get(len_category, 0) + overlap\n",
    "            overlap_event_dict[event_category] = overlap_event_dict.get(event_category, 0) + overlap\n",
    "\n",
    "\n",
    "            print(\"Debug: \", call, ground_truth, overlap)\n",
    "        \n",
    "    "
   ]
  },
  {
   "cell_type": "code",
   "execution_count": 45,
   "metadata": {},
   "outputs": [
    {
     "name": "stdout",
     "output_type": "stream",
     "text": [
      "Category: < 1K\n",
      "Overlap length: 568\n",
      "Ground truth length: 7200\n",
      "\n",
      "Category: 1K - 10K\n",
      "Overlap length: 0\n",
      "Ground truth length: 367094\n",
      "\n",
      "Category: 10K - 100K\n",
      "Overlap length: 37649\n",
      "Ground truth length: 515276\n",
      "\n",
      "Category: 100K - 1M\n",
      "Overlap length: 784099\n",
      "Ground truth length: 7715624682\n",
      "\n",
      "Category: > 1M\n",
      "Overlap length: 0\n",
      "Ground truth length: 0\n",
      "\n"
     ]
    }
   ],
   "source": [
    "for len_category_category in [\"< 1K\", \"1K - 10K\", \"10K - 100K\", \"100K - 1M\", \"> 1M\"]:\n",
    "    print(f\"Category: {len_category_category}\")\n",
    "    print(f\"Overlap length: {overlap_len_dict.get(len_category_category, 0)}\")\n",
    "    print(f\"Ground truth length: {ground_truth_len_dict.get(len_category_category,0)}\")\n",
    "    print()"
   ]
  },
  {
   "cell_type": "code",
   "execution_count": 46,
   "metadata": {},
   "outputs": [
    {
     "name": "stdout",
     "output_type": "stream",
     "text": [
      "Category: hetelogygous_deletion\n",
      "Overlap length: 0\n",
      "Ground truth length: 0\n",
      "\n",
      "Category: amplification\n",
      "Overlap length: 0\n",
      "Ground truth length: 63368\n",
      "\n",
      "Category: high_level_amplification\n",
      "Overlap length: 822316\n",
      "Ground truth length: 18147114924396\n",
      "\n"
     ]
    }
   ],
   "source": [
    "for event_category in [\"hetelogygous_deletion\", \"amplification\", \"high_level_amplification\"]:\n",
    "    print(f\"Category: {event_category}\")\n",
    "    print(f\"Overlap length: {overlap_event_dict.get(event_category, 0)}\")\n",
    "    print(f\"Ground truth length: {ground_truth_event_dict.get(event_category,0)}\")\n",
    "    print()"
   ]
  }
 ],
 "metadata": {
  "kernelspec": {
   "display_name": "venv",
   "language": "python",
   "name": "python3"
  },
  "language_info": {
   "codemirror_mode": {
    "name": "ipython",
    "version": 3
   },
   "file_extension": ".py",
   "mimetype": "text/x-python",
   "name": "python",
   "nbconvert_exporter": "python",
   "pygments_lexer": "ipython3",
   "version": "3.10.12"
  }
 },
 "nbformat": 4,
 "nbformat_minor": 2
}
