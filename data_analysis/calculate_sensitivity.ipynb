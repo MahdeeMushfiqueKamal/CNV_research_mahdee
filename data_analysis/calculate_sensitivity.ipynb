{
 "cells": [
  {
   "cell_type": "markdown",
   "metadata": {},
   "source": [
    "## Sensitivity Calculation\n",
    "![Sensitivoty_Calculation](sensitivity_calculation.png)"
   ]
  },
  {
   "cell_type": "code",
   "execution_count": 125,
   "metadata": {},
   "outputs": [],
   "source": [
    "ground_truths = [[9399444, 15913631, 6514188, 4],\n",
    " [15913632, 51304565, 35390934, 4]]"
   ]
  },
  {
   "cell_type": "code",
   "execution_count": 126,
   "metadata": {},
   "outputs": [],
   "source": [
    "cnv_pytor_calls = [    [\"deletion\", \"chr22\", 1, 26773000, 26773000, 0.20302493687105533, 0.00021883051092075765],\n",
    "    [\"duplication\", \"chr22\", 28896001, 46831000, 17935000, 1.4443000601026115, 7.565132416404729e-05],\n",
    "    [\"deletion\", \"chr22\", 46831001, 51305000, 4474000, 0.6038287883088232, 0.0001366045389519194]\n",
    "]"
   ]
  },
  {
   "cell_type": "code",
   "execution_count": 127,
   "metadata": {},
   "outputs": [],
   "source": [
    "def get_category(original_call_size: int)->str:\n",
    "    if original_call_size < 1000:\n",
    "        return \"< 1K\"\n",
    "    elif original_call_size < 10000:\n",
    "        return \"1K - 10K\"\n",
    "    elif original_call_size < 100000:\n",
    "        return \"10K - 100K\"\n",
    "    elif original_call_size < 1000000:\n",
    "        return \"100K - 1M\"\n",
    "    else:\n",
    "        return \"> 1M\""
   ]
  },
  {
   "cell_type": "code",
   "execution_count": 128,
   "metadata": {},
   "outputs": [],
   "source": [
    "def get_overlap(cnv_start, cnv_end, gt_start, gt_end):\n",
    "    return max(0, min(cnv_end, gt_end) - max(cnv_start, gt_start))"
   ]
  },
  {
   "cell_type": "code",
   "execution_count": 129,
   "metadata": {},
   "outputs": [],
   "source": [
    "ground_truth_len_dict = dict()\n",
    "overlap_len_dict = dict()"
   ]
  },
  {
   "cell_type": "code",
   "execution_count": 130,
   "metadata": {},
   "outputs": [],
   "source": [
    "for ground_truth in ground_truths:\n",
    "    category = get_category(ground_truth[2])\n",
    "    ground_truth_start = ground_truth[0]\n",
    "    ground_truth_end = ground_truth[1]\n",
    "\n",
    "    ground_truth_len_dict[category] = ground_truth_len_dict.get(category, 0) + (ground_truth_end - ground_truth_start)\n",
    "\n",
    "    for call in cnv_pytor_calls:\n",
    "        call_start = call[2]\n",
    "        call_end = call[3]\n",
    "        overlap = get_overlap(call_start, call_end, ground_truth_start, ground_truth_end)\n",
    "\n",
    "        if overlap > 0:\n",
    "            overlap_len_dict[category] = overlap_len_dict.get(category, 0) + overlap\n",
    "        \n",
    "    "
   ]
  },
  {
   "cell_type": "code",
   "execution_count": 131,
   "metadata": {},
   "outputs": [
    {
     "name": "stdout",
     "output_type": "stream",
     "text": [
      "Category: < 1K\n",
      "Overlap length: 0\n",
      "Ground truth length: 0\n",
      "\n",
      "Category: 1K - 10K\n",
      "Overlap length: 0\n",
      "Ground truth length: 0\n",
      "\n",
      "Category: 10K - 100K\n",
      "Overlap length: 0\n",
      "Ground truth length: 0\n",
      "\n",
      "Category: 100K - 1M\n",
      "Overlap length: 0\n",
      "Ground truth length: 0\n",
      "\n",
      "Category: > 1M\n",
      "Overlap length: 22409093\n",
      "Ground truth length: 24532095\n",
      "\n"
     ]
    }
   ],
   "source": [
    "for category in [\"< 1K\", \"1K - 10K\", \"10K - 100K\", \"100K - 1M\", \"> 1M\"]:\n",
    "    print(f\"Category: {category}\")\n",
    "    print(f\"Overlap length: {overlap_len_dict.get(category, 0)}\")\n",
    "    print(f\"Ground truth length: {ground_truth_len_dict.get(category,0)}\")\n",
    "    print()"
   ]
  },
  {
   "cell_type": "code",
   "execution_count": null,
   "metadata": {},
   "outputs": [],
   "source": []
  }
 ],
 "metadata": {
  "kernelspec": {
   "display_name": "venv",
   "language": "python",
   "name": "python3"
  },
  "language_info": {
   "codemirror_mode": {
    "name": "ipython",
    "version": 3
   },
   "file_extension": ".py",
   "mimetype": "text/x-python",
   "name": "python",
   "nbconvert_exporter": "python",
   "pygments_lexer": "ipython3",
   "version": "3.10.12"
  }
 },
 "nbformat": 4,
 "nbformat_minor": 2
}
