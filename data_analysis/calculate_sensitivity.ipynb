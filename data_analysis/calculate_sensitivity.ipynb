{
 "cells": [
  {
   "cell_type": "markdown",
   "metadata": {},
   "source": [
    "## Sensitivity Calculation\n",
    "![Sensitivoty_Calculation](sensitivity_calculation.png)"
   ]
  },
  {
   "cell_type": "code",
   "execution_count": 175,
   "metadata": {},
   "outputs": [],
   "source": [
    "ground_truths = [[26772469, 41890291, 15117823, 6],\n",
    " [41890292, 51304565, 9414274, 4]]"
   ]
  },
  {
   "cell_type": "code",
   "execution_count": 176,
   "metadata": {},
   "outputs": [],
   "source": [
    "cnv_pytor_calls = [    [\"deletion\", \"chr22\", 1, 26773000, 26773000, 0.20302493687105533, 0.00021883051092075765],\n",
    "    [\"duplication\", \"chr22\", 28896001, 46831000, 17935000, 1.4443000601026115, 7.565132416404729e-05],\n",
    "    [\"deletion\", \"chr22\", 46831001, 51305000, 4474000, 0.6038287883088232, 0.0001366045389519194]\n",
    "]"
   ]
  },
  {
   "cell_type": "code",
   "execution_count": 177,
   "metadata": {},
   "outputs": [],
   "source": [
    "def get_length_category(original_call_size: int)->str:\n",
    "    if original_call_size < 1000:\n",
    "        return \"< 1K\"\n",
    "    elif original_call_size < 10000:\n",
    "        return \"1K - 10K\"\n",
    "    elif original_call_size < 100000:\n",
    "        return \"10K - 100K\"\n",
    "    elif original_call_size < 1000000:\n",
    "        return \"100K - 1M\"\n",
    "    else:\n",
    "        return \"> 1M\""
   ]
  },
  {
   "cell_type": "code",
   "execution_count": 178,
   "metadata": {},
   "outputs": [],
   "source": [
    "def get_event_category(original_call_cnv: str)->str:\n",
    "    if original_call_cnv == 0:\n",
    "        return \"hetelogygous_deletion\"\n",
    "    \n",
    "    elif original_call_cnv == 2:\n",
    "        return \"amplification\"\n",
    "    \n",
    "    elif original_call_cnv >= 3:\n",
    "        return \"high_level_amplification\""
   ]
  },
  {
   "cell_type": "code",
   "execution_count": 179,
   "metadata": {},
   "outputs": [],
   "source": [
    "def get_overlap(cnv_start, cnv_end, gt_start, gt_end):\n",
    "    return max(0, min(cnv_end, gt_end) - max(cnv_start, gt_start))"
   ]
  },
  {
   "cell_type": "code",
   "execution_count": 180,
   "metadata": {},
   "outputs": [],
   "source": [
    "ground_truth_len_dict = dict()\n",
    "overlap_len_dict = dict()\n",
    "\n",
    "\n",
    "ground_truth_event_dict = dict()\n",
    "overlap_event_dict = dict()"
   ]
  },
  {
   "cell_type": "code",
   "execution_count": 181,
   "metadata": {},
   "outputs": [],
   "source": [
    "for ground_truth in ground_truths:\n",
    "    len_category = get_length_category(ground_truth[2])\n",
    "    event_category = get_event_category(ground_truth[3])\n",
    "    ground_truth_start = ground_truth[0]\n",
    "    ground_truth_end = ground_truth[1]\n",
    "\n",
    "    ground_truth_len_dict[len_category] = ground_truth_len_dict.get(len_category, 0) + ground_truth[2]\n",
    "    ground_truth_event_dict[event_category] = ground_truth_event_dict.get(event_category, 0) + ground_truth[2]\n",
    "\n",
    "    for call in cnv_pytor_calls:\n",
    "        call_start = call[2]\n",
    "        call_end = call[3]\n",
    "        overlap = 0\n",
    "\n",
    "        if call[0] == \"deletion\" and ground_truth[3] == 0:\n",
    "            overlap = get_overlap(call_start, call_end, ground_truth_start, ground_truth_end)\n",
    "\n",
    "        elif call[0] == \"duplication\" and ground_truth[3] != 0:\n",
    "            overlap = get_overlap(call_start, call_end, ground_truth_start, ground_truth_end)\n",
    "\n",
    "\n",
    "        if overlap > 0:\n",
    "            overlap_len_dict[len_category] = overlap_len_dict.get(len_category, 0) + overlap\n",
    "            overlap_event_dict[event_category] = overlap_event_dict.get(event_category, 0) + overlap\n",
    "        \n",
    "    "
   ]
  },
  {
   "cell_type": "code",
   "execution_count": 182,
   "metadata": {},
   "outputs": [
    {
     "name": "stdout",
     "output_type": "stream",
     "text": [
      "Category: < 1K\n",
      "Overlap length: 0\n",
      "Ground truth length: 0\n",
      "\n",
      "Category: 1K - 10K\n",
      "Overlap length: 0\n",
      "Ground truth length: 0\n",
      "\n",
      "Category: 10K - 100K\n",
      "Overlap length: 0\n",
      "Ground truth length: 0\n",
      "\n",
      "Category: 100K - 1M\n",
      "Overlap length: 0\n",
      "Ground truth length: 0\n",
      "\n",
      "Category: > 1M\n",
      "Overlap length: 17934998\n",
      "Ground truth length: 24532097\n",
      "\n"
     ]
    }
   ],
   "source": [
    "for len_category_category in [\"< 1K\", \"1K - 10K\", \"10K - 100K\", \"100K - 1M\", \"> 1M\"]:\n",
    "    print(f\"Category: {len_category_category}\")\n",
    "    print(f\"Overlap length: {overlap_len_dict.get(len_category_category, 0)}\")\n",
    "    print(f\"Ground truth length: {ground_truth_len_dict.get(len_category_category,0)}\")\n",
    "    print()"
   ]
  },
  {
   "cell_type": "code",
   "execution_count": 183,
   "metadata": {},
   "outputs": [
    {
     "name": "stdout",
     "output_type": "stream",
     "text": [
      "Category: hetelogygous_deletion\n",
      "Overlap length: 0\n",
      "Ground truth length: 0\n",
      "\n",
      "Category: amplification\n",
      "Overlap length: 0\n",
      "Ground truth length: 0\n",
      "\n",
      "Category: high_level_amplification\n",
      "Overlap length: 17934998\n",
      "Ground truth length: 24532097\n",
      "\n"
     ]
    }
   ],
   "source": [
    "for event_category in [\"hetelogygous_deletion\", \"amplification\", \"high_level_amplification\"]:\n",
    "    print(f\"Category: {event_category}\")\n",
    "    print(f\"Overlap length: {overlap_event_dict.get(event_category, 0)}\")\n",
    "    print(f\"Ground truth length: {ground_truth_event_dict.get(event_category,0)}\")\n",
    "    print()"
   ]
  }
 ],
 "metadata": {
  "kernelspec": {
   "display_name": "venv",
   "language": "python",
   "name": "python3"
  },
  "language_info": {
   "codemirror_mode": {
    "name": "ipython",
    "version": 3
   },
   "file_extension": ".py",
   "mimetype": "text/x-python",
   "name": "python",
   "nbconvert_exporter": "python",
   "pygments_lexer": "ipython3",
   "version": "3.10.12"
  }
 },
 "nbformat": 4,
 "nbformat_minor": 2
}
