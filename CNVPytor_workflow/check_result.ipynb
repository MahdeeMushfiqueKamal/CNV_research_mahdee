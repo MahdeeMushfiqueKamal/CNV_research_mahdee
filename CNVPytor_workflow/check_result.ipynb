{
 "cells": [
  {
   "cell_type": "code",
   "execution_count": 1,
   "metadata": {},
   "outputs": [],
   "source": [
    "# parse the original result: \n",
    "# start, end, length, number of reads\n",
    "# filename='test_with_del_400_1_formated.fa'\n",
    "original_locations = [[643169,644858,1690,2],\n",
    "[13480846,13512879,32034,8],\n",
    "[8039367,8047932,8566,3],\n",
    "[18704644,18881398,176755,7],\n",
    "[23607182,23613596,6415,4],\n",
    "[28465981,28599394,133414,6],\n",
    "[30804149,30979616,175468,6],\n",
    "[35940180,36199656,259477,4],\n",
    "[44149293,44465270,315978,4],\n",
    "[46379887,46674734,294848,3]]"
   ]
  },
  {
   "cell_type": "code",
   "execution_count": 2,
   "metadata": {},
   "outputs": [
    {
     "name": "stdout",
     "output_type": "stream",
     "text": [
      "[643169, 644858, 8039367, 8047932, 13480846, 13512879, 18704644, 18881398, 23607182, 23613596, 28465981, 28599394, 30804149, 30979616, 35940180, 36199656, 44149293, 44465270, 46379887, 46674734]\n"
     ]
    }
   ],
   "source": [
    "break_points = []\n",
    "\n",
    "for i in range(len(original_locations)):\n",
    "    break_points.append(original_locations[i][0])\n",
    "    break_points.append(original_locations[i][1])\n",
    "    \n",
    "break_points = sorted(break_points)\n",
    "\n",
    "print(break_points)"
   ]
  },
  {
   "cell_type": "code",
   "execution_count": 3,
   "metadata": {},
   "outputs": [
    {
     "data": {
      "text/plain": [
       "15"
      ]
     },
     "execution_count": 3,
     "metadata": {},
     "output_type": "execute_result"
    }
   ],
   "source": [
    "# filename='test_with_del_400_1_formated.fa', Histogram Size: 1000\n",
    "CNV_pytor_calls = [[\"duplication\",\"chr22\",8040001,8048000,8000,2.9704977216326194,0.0],\n",
    "[\"duplication\",\"chr22\",13481001,13513000,32000,8.049257412365229,0.0],\n",
    "[\"duplication\",\"chr22\",18658001,18683000,25000,1.60915345766002,0.00041953754054184885],\n",
    "[\"duplication\",\"chr22\",18705001,18881000,176000,5.320488693074513,0.00011267605633802817],\n",
    "[\"duplication\",\"chr22\",20326001,20368000,42000,1.6548820347955073,0.00046664862291991374],\n",
    "[\"duplication\",\"chr22\",20610001,20655000,45000,2.080531788919076,0.0001596490497410909],\n",
    "[\"duplication\",\"chr22\",21466001,21505000,39000,1.7381756742881092,0.00019154336062826222],\n",
    "[\"duplication\",\"chr22\",21522001,21559000,37000,1.6756902740988295,0.0018435303606406269],\n",
    "[\"duplication\",\"chr22\",21561001,21686000,125000,1.9209141244430774,0.0005301137039801803],\n",
    "[\"duplication\",\"chr22\",23608001,23613000,5000,3.976525960397803,0.0],\n",
    "[\"duplication\",\"chr22\",28466001,28599000,133000,5.963115601600853,4.425141358682291e-05],\n",
    "[\"duplication\",\"chr22\",30804001,30989000,185000,5.76507271807186,1.0983713593565985e-05],\n",
    "[\"duplication\",\"chr22\",35940001,36200000,260000,4.001903475828304,2.999651290537475e-05],\n",
    "[\"duplication\",\"chr22\",44149001,44465000,316000,4.00183080907843,2.4692132829270878e-05],\n",
    "[\"duplication\",\"chr22\",46380001,46675000,295000,3.000748484978554,2.4998290558072133e-05]]\n",
    "\n",
    "len(CNV_pytor_calls)"
   ]
  },
  {
   "cell_type": "code",
   "execution_count": 4,
   "metadata": {},
   "outputs": [],
   "source": [
    "for call in CNV_pytor_calls:\n",
    "    call.pop(1) # removed chr22 part, not important for analysis\n",
    "    call.pop(5) # removed p-value part, not important for analysis\n",
    "    call[4] = round(call[4]) # rounded the copy number to an integer\n"
   ]
  },
  {
   "cell_type": "code",
   "execution_count": 5,
   "metadata": {},
   "outputs": [],
   "source": [
    "for i, call in enumerate(CNV_pytor_calls):\n",
    "    # print(i) # i prints 30, so newly added cnv_pytor_calls are added to the end of the list\n",
    "    type_, start, end, length, copy_number = call\n",
    "\n",
    "    for breakpoint in break_points:\n",
    "        if start < breakpoint < end:\n",
    "            # print(\"breakpoint:\", breakpoint, \"start:\", start, \"end:\", end) \n",
    "            CNV_pytor_calls.append([type_, start, breakpoint, breakpoint-start + 1, copy_number])\n",
    "            CNV_pytor_calls.append([type_, breakpoint + 1, end, end-breakpoint, copy_number])\n",
    "            CNV_pytor_calls[i] = None\n",
    "            break"
   ]
  },
  {
   "cell_type": "code",
   "execution_count": 6,
   "metadata": {},
   "outputs": [
    {
     "data": {
      "text/plain": [
       "[['duplication', 8040001, 8047932, 7932, 3],\n",
       " ['duplication', 8047933, 8048000, 68, 3],\n",
       " ['duplication', 13481001, 13512879, 31879, 8],\n",
       " ['duplication', 13512880, 13513000, 121, 8],\n",
       " ['duplication', 18658001, 18683000, 25000, 2],\n",
       " ['duplication', 18705001, 18881000, 176000, 5],\n",
       " ['duplication', 20326001, 20368000, 42000, 2],\n",
       " ['duplication', 20610001, 20655000, 45000, 2],\n",
       " ['duplication', 21466001, 21505000, 39000, 2],\n",
       " ['duplication', 21522001, 21559000, 37000, 2],\n",
       " ['duplication', 21561001, 21686000, 125000, 2],\n",
       " ['duplication', 23608001, 23613000, 5000, 4],\n",
       " ['duplication', 28466001, 28599000, 133000, 6],\n",
       " ['duplication', 30804001, 30804149, 149, 6],\n",
       " ['duplication', 30804150, 30979616, 175467, 6],\n",
       " ['duplication', 30979617, 30989000, 9384, 6],\n",
       " ['duplication', 35940001, 35940180, 180, 4],\n",
       " ['duplication', 35940181, 36199656, 259476, 4],\n",
       " ['duplication', 36199657, 36200000, 344, 4],\n",
       " ['duplication', 44149001, 44149293, 293, 4],\n",
       " ['duplication', 44149294, 44465000, 315707, 4],\n",
       " ['duplication', 46380001, 46674734, 294734, 3],\n",
       " ['duplication', 46674735, 46675000, 266, 3]]"
      ]
     },
     "execution_count": 6,
     "metadata": {},
     "output_type": "execute_result"
    }
   ],
   "source": [
    "# remove None from the list\n",
    "CNV_pytor_calls = [call for call in CNV_pytor_calls if call is not None]\n",
    "CNV_pytor_calls = sorted(CNV_pytor_calls, key=lambda x: x[1])\n",
    "CNV_pytor_calls"
   ]
  },
  {
   "cell_type": "code",
   "execution_count": 7,
   "metadata": {},
   "outputs": [],
   "source": [
    "true_positive = 0\n",
    "false_positive = 0\n",
    "ground_truth = 0"
   ]
  },
  {
   "cell_type": "code",
   "execution_count": 8,
   "metadata": {},
   "outputs": [],
   "source": [
    "# find the ground truth\n",
    "for original_call in original_locations:\n",
    "    start, end, length, number_of_reads = original_call\n",
    "    ground_truth += length*number_of_reads"
   ]
  },
  {
   "cell_type": "code",
   "execution_count": 9,
   "metadata": {},
   "outputs": [],
   "source": [
    "for cnvpytor_call in CNV_pytor_calls:\n",
    "    cnvpytor_type, cnvpytor_start, cnvpytor_end, cnvpytor_length, cnvpytor_copy_number = cnvpytor_call\n",
    "    has_overlapped = False\n",
    "    for original_call in original_locations:\n",
    "        original_start, original_end, original_length, original_copy_number = original_call\n",
    "        # find the overlap between two calls\n",
    "        overlap = min(cnvpytor_end, original_end) - max(cnvpytor_start, original_start) + 1\n",
    "\n",
    "        if overlap < 0:\n",
    "            continue\n",
    "\n",
    "        has_overlapped = True\n",
    "\n",
    "        true_positive += overlap * min(original_copy_number, cnvpytor_copy_number)\n",
    "\n",
    "        if cnvpytor_copy_number > original_copy_number:\n",
    "            false_positive += cnvpytor_length * (cnvpytor_copy_number - original_copy_number)\n",
    "\n",
    "    if not has_overlapped:\n",
    "        false_positive += cnvpytor_length * (cnvpytor_copy_number-1)\n",
    "        "
   ]
  },
  {
   "cell_type": "code",
   "execution_count": 10,
   "metadata": {},
   "outputs": [],
   "source": [
    "false_negative = ground_truth - true_positive"
   ]
  },
  {
   "cell_type": "code",
   "execution_count": 11,
   "metadata": {},
   "outputs": [
    {
     "name": "stdout",
     "output_type": "stream",
     "text": [
      "true_positive: 6214578\n",
      "false_positive: 626000\n",
      "false_negative: 373373\n",
      "ground_truth: 6587951\n"
     ]
    }
   ],
   "source": [
    "print(\"true_positive:\", true_positive)\n",
    "print(\"false_positive:\", false_positive)\n",
    "print(\"false_negative:\", false_negative)\n",
    "print(\"ground_truth:\", ground_truth)"
   ]
  },
  {
   "cell_type": "code",
   "execution_count": 12,
   "metadata": {},
   "outputs": [
    {
     "data": {
      "text/plain": [
       "0.9433248668667997"
      ]
     },
     "execution_count": 12,
     "metadata": {},
     "output_type": "execute_result"
    }
   ],
   "source": [
    "true_positive / ground_truth"
   ]
  },
  {
   "cell_type": "code",
   "execution_count": 13,
   "metadata": {},
   "outputs": [
    {
     "data": {
      "text/plain": [
       "0.09502195751000576"
      ]
     },
     "execution_count": 13,
     "metadata": {},
     "output_type": "execute_result"
    }
   ],
   "source": [
    "false_positive / ground_truth"
   ]
  },
  {
   "cell_type": "code",
   "execution_count": 14,
   "metadata": {},
   "outputs": [
    {
     "data": {
      "text/plain": [
       "0.056675133133200294"
      ]
     },
     "execution_count": 14,
     "metadata": {},
     "output_type": "execute_result"
    }
   ],
   "source": [
    "false_negative / ground_truth"
   ]
  },
  {
   "cell_type": "code",
   "execution_count": null,
   "metadata": {},
   "outputs": [],
   "source": []
  }
 ],
 "metadata": {
  "kernelspec": {
   "display_name": "Python 3",
   "language": "python",
   "name": "python3"
  },
  "language_info": {
   "codemirror_mode": {
    "name": "ipython",
    "version": 3
   },
   "file_extension": ".py",
   "mimetype": "text/x-python",
   "name": "python",
   "nbconvert_exporter": "python",
   "pygments_lexer": "ipython3",
   "version": "3.10.12"
  }
 },
 "nbformat": 4,
 "nbformat_minor": 2
}
