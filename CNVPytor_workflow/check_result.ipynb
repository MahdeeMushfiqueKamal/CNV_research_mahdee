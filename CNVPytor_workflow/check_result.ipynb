{
 "cells": [
  {
   "cell_type": "code",
   "execution_count": 5,
   "metadata": {},
   "outputs": [],
   "source": [
    "def find_intersection(x_interval, y_interval):\n",
    "    x1, x2 = x_interval\n",
    "    y1, y2 = y_interval\n",
    "\n",
    "    # Find the maximum of the lower bounds and the minimum of the upper bounds\n",
    "    overlap_start = max(x1, y1)\n",
    "    overlap_end = min(x2, y2)\n",
    "\n",
    "    # Check if there is an overlap\n",
    "    if overlap_start < overlap_end:\n",
    "        # Calculate the length of the overlap\n",
    "        overlap_length = overlap_end - overlap_start\n",
    "        return overlap_length\n",
    "    else:\n",
    "        # No overlap\n",
    "        return 0\n"
   ]
  },
  {
   "cell_type": "code",
   "execution_count": 6,
   "metadata": {},
   "outputs": [],
   "source": [
    "# parse the original result: \n",
    "# start, end, length, number of reads\n",
    "# filename='test_with_del_400_1_formated.fa', Histogram Size: 1000\n",
    "original_locations = [[643169,644858,1690,2],\n",
    "[8039367,8047932,8566,3],\n",
    "[13480846,13512879,32034,8],\n",
    "[18704644,18881398,176755,7],\n",
    "[23607182,23613596,6415,4],\n",
    "[28465981,28599394,133414,6],\n",
    "[30804149,30979616,175468,6],\n",
    "[35940180,36199656,259477,4],\n",
    "[44149293,44465270,315978,4],\n",
    "[46379887,46674734,294848,3]]"
   ]
  },
  {
   "cell_type": "code",
   "execution_count": 7,
   "metadata": {},
   "outputs": [],
   "source": [
    "# filename='test_with_del_400_1_formated.fa', Histogram Size: 1000\n",
    "CNV_pytor_calls = [[\"duplication\",\"chr22\",8040001,8048000,8000,2.9704977216326194,0.0],\n",
    "[\"duplication\",\"chr22\",13481001,13513000,32000,8.049257412365229,0.0],\n",
    "[\"duplication\",\"chr22\",18658001,18683000,25000,1.60915345766002,0.00041953754054184885],\n",
    "[\"duplication\",\"chr22\",18705001,18881000,176000,5.320488693074513,0.00011267605633802817],\n",
    "[\"duplication\",\"chr22\",20326001,20368000,42000,1.6548820347955073,0.00046664862291991374],\n",
    "[\"duplication\",\"chr22\",20610001,20655000,45000,2.080531788919076,0.0001596490497410909],\n",
    "[\"duplication\",\"chr22\",21466001,21505000,39000,1.7381756742881092,0.00019154336062826222],\n",
    "[\"duplication\",\"chr22\",21522001,21559000,37000,1.6756902740988295,0.0018435303606406269],\n",
    "[\"duplication\",\"chr22\",21561001,21686000,125000,1.9209141244430774,0.0005301137039801803],\n",
    "[\"duplication\",\"chr22\",23608001,23613000,5000,3.976525960397803,0.0],\n",
    "[\"duplication\",\"chr22\",28466001,28599000,133000,5.963115601600853,4.425141358682291e-05],\n",
    "[\"duplication\",\"chr22\",30804001,30989000,185000,5.76507271807186,1.0983713593565985e-05],\n",
    "[\"duplication\",\"chr22\",35940001,36200000,260000,4.001903475828304,2.999651290537475e-05],\n",
    "[\"duplication\",\"chr22\",44149001,44465000,316000,4.00183080907843,2.4692132829270878e-05],\n",
    "[\"duplication\",\"chr22\",46380001,46675000,295000,3.000748484978554,2.4998290558072133e-05]]"
   ]
  },
  {
   "cell_type": "code",
   "execution_count": 12,
   "metadata": {},
   "outputs": [
    {
     "name": "stdout",
     "output_type": "stream",
     "text": [
      "Overlap:  0.991375\n",
      "Overlap:  0.9961875\n",
      "No overlap\n",
      "Overlap:  0.9999943181818182\n",
      "No overlap\n",
      "No overlap\n",
      "No overlap\n",
      "No overlap\n",
      "No overlap\n",
      "Overlap:  0.9998\n",
      "Overlap:  0.9999924812030075\n",
      "Overlap:  0.9484702702702703\n",
      "Overlap:  0.9979846153846154\n",
      "Overlap:  0.9990727848101266\n",
      "Overlap:  0.9990949152542373\n"
     ]
    }
   ],
   "source": [
    "for cnv_call in CNV_pytor_calls:\n",
    "    pytor_start, pytor_end, pytor_size = cnv_call[2], cnv_call[3], cnv_call[4]\n",
    "\n",
    "    max_overlap = 0\n",
    "\n",
    "    for original_call in original_locations:\n",
    "        original_start, original_end, original_size = original_call[0], original_call[1], original_call[2]\n",
    "        overlap = find_intersection([pytor_start, pytor_end], [original_start, original_end])\n",
    "\n",
    "        max_overlap = max(max_overlap, overlap/pytor_size)\n",
    "\n",
    "    if max_overlap > 0.8:\n",
    "        print(\"Overlap: \", max_overlap)\n",
    "    else:\n",
    "        print(\"No overlap\")\n"
   ]
  },
  {
   "cell_type": "code",
   "execution_count": null,
   "metadata": {},
   "outputs": [],
   "source": []
  }
 ],
 "metadata": {
  "kernelspec": {
   "display_name": "Python 3",
   "language": "python",
   "name": "python3"
  },
  "language_info": {
   "codemirror_mode": {
    "name": "ipython",
    "version": 3
   },
   "file_extension": ".py",
   "mimetype": "text/x-python",
   "name": "python",
   "nbconvert_exporter": "python",
   "pygments_lexer": "ipython3",
   "version": "3.10.12"
  }
 },
 "nbformat": 4,
 "nbformat_minor": 2
}
