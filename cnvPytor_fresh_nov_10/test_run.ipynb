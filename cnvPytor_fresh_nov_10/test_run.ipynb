{
 "cells": [
  {
   "cell_type": "code",
   "execution_count": 1,
   "metadata": {},
   "outputs": [
    {
     "name": "stdout",
     "output_type": "stream",
     "text": [
      "1.3.1\n"
     ]
    }
   ],
   "source": [
    "import cnvpytor\n",
    "print(cnvpytor.__version__)"
   ]
  },
  {
   "cell_type": "code",
   "execution_count": 2,
   "metadata": {},
   "outputs": [],
   "source": [
    "app = cnvpytor.Root(\"test.pytor\", create=True, max_cores=16)"
   ]
  },
  {
   "cell_type": "code",
   "execution_count": 3,
   "metadata": {},
   "outputs": [],
   "source": [
    "app.rd(['biasOut_sorted.bam'])"
   ]
  },
  {
   "cell_type": "code",
   "execution_count": 4,
   "metadata": {},
   "outputs": [],
   "source": [
    "app.calculate_histograms([10000, 100000])"
   ]
  },
  {
   "cell_type": "code",
   "execution_count": 5,
   "metadata": {},
   "outputs": [],
   "source": [
    "app.partition([10000, 100000])"
   ]
  },
  {
   "cell_type": "code",
   "execution_count": 6,
   "metadata": {},
   "outputs": [],
   "source": [
    "calls=app.call([10000,100000])"
   ]
  },
  {
   "cell_type": "code",
   "execution_count": 7,
   "metadata": {},
   "outputs": [
    {
     "name": "stdout",
     "output_type": "stream",
     "text": [
      "Bin size:  10000\n",
      "Bin size:  100000\n"
     ]
    }
   ],
   "source": [
    "for bin_size in calls:\n",
    "    print(\"Bin size: \", bin_size)"
   ]
  },
  {
   "cell_type": "code",
   "execution_count": 13,
   "metadata": {},
   "outputs": [
    {
     "data": {
      "text/plain": [
       "'\\n(643169,644858) = 1690   2\\n(8039367,8047932) = 8566   3\\n(13480846,13512879) = 32034   8\\n(18704644,18881398) = 176755   7\\n(23607182,23613596) = 6415   4\\n(28465981,28599394) = 133414   6\\n(30804149,30979616) = 175468   6\\n(35940180,36199656) = 259477   4\\n(44149293,44465270) = 315978   4\\n(46379887,46674734) = 294848   3\\n'"
      ]
     },
     "execution_count": 13,
     "metadata": {},
     "output_type": "execute_result"
    }
   ],
   "source": [
    "'''\n",
    "(643169,644858) = 1690   2\n",
    "(8039367,8047932) = 8566   3\n",
    "(13480846,13512879) = 32034   8\n",
    "(18704644,18881398) = 176755   7\n",
    "(23607182,23613596) = 6415   4\n",
    "(28465981,28599394) = 133414   6\n",
    "(30804149,30979616) = 175468   6\n",
    "(35940180,36199656) = 259477   4\n",
    "(44149293,44465270) = 315978   4\n",
    "(46379887,46674734) = 294848   3\n",
    "'''"
   ]
  },
  {
   "cell_type": "code",
   "execution_count": 15,
   "metadata": {},
   "outputs": [
    {
     "name": "stdout",
     "output_type": "stream",
     "text": [
      "duplication  chr22  18650001  18880000    230000           4.28       4.52e-05       3.02e+01\n",
      "duplication  chr22  21460001  21680000    220000           1.77       4.90e-05       0.00e+00\n",
      "duplication  chr22  28460001  28600000    140000           5.70       1.02e-07       0.00e+00\n",
      "duplication  chr22  30800001  30980000    180000           5.91       0.00e+00       0.00e+00\n",
      "duplication  chr22  35940001  36200000    260000           3.96       0.00e+00       0.00e+00\n",
      "duplication  chr22  44150001  44470000    320000           3.94       0.00e+00       0.00e+00\n",
      "duplication  chr22  46380001  46680000    300000           2.96       0.00e+00       0.00e+00\n"
     ]
    }
   ],
   "source": [
    "for call in calls[10000]:\n",
    "    print((\"{:13}{:>5}{:10}{:10}{:10}{:15.2f}{:15.2e}{:15.2e}\").format(*tuple(call)))"
   ]
  },
  {
   "cell_type": "code",
   "execution_count": 9,
   "metadata": {},
   "outputs": [],
   "source": [
    "app.calculate_baf([10000, 100000])"
   ]
  },
  {
   "cell_type": "code",
   "execution_count": 10,
   "metadata": {},
   "outputs": [],
   "source": [
    "del app"
   ]
  },
  {
   "cell_type": "code",
   "execution_count": null,
   "metadata": {},
   "outputs": [],
   "source": []
  }
 ],
 "metadata": {
  "kernelspec": {
   "display_name": "venv",
   "language": "python",
   "name": "python3"
  },
  "language_info": {
   "codemirror_mode": {
    "name": "ipython",
    "version": 3
   },
   "file_extension": ".py",
   "mimetype": "text/x-python",
   "name": "python",
   "nbconvert_exporter": "python",
   "pygments_lexer": "ipython3",
   "version": "3.10.12"
  },
  "orig_nbformat": 4
 },
 "nbformat": 4,
 "nbformat_minor": 2
}
