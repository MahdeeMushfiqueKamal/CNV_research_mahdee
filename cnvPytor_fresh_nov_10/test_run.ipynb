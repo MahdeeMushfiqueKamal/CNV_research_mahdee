{
 "cells": [
  {
   "cell_type": "code",
   "execution_count": 1,
   "metadata": {},
   "outputs": [
    {
     "name": "stdout",
     "output_type": "stream",
     "text": [
      "1.3.1\n"
     ]
    }
   ],
   "source": [
    "import cnvpytor\n",
    "\n",
    "print(cnvpytor.__version__)"
   ]
  },
  {
   "cell_type": "code",
   "execution_count": 2,
   "metadata": {},
   "outputs": [],
   "source": [
    "app = cnvpytor.Root(\"test.pytor\", create=True, max_cores=8)\n",
    "app.rd([\"biasOut_sorted.bam\"])"
   ]
  },
  {
   "cell_type": "code",
   "execution_count": 15,
   "metadata": {},
   "outputs": [
    {
     "name": "stdout",
     "output_type": "stream",
     "text": [
      "duplication\tchr22:18650001-18880000\t230000\t4.2821\t4.518656e-05\t3.023060e+01\t4.518656e-05\t3.023060e+01\t0.0002\t0.0000\t1629600\n",
      "duplication\tchr22:21460001-21680000\t220000\t1.7736\t4.903345e-05\t0.000000e+00\t4.903345e-05\t0.000000e+00\t0.0005\t0.0000\t850700\n",
      "duplication\tchr22:28460001-28600000\t140000\t5.6981\t1.022443e-07\t0.000000e+00\t1.022443e-07\t0.000000e+00\t0.0000\t0.0000\t7850700\n",
      "duplication\tchr22:30800001-30980000\t180000\t5.9066\t0.000000e+00\t0.000000e+00\t0.000000e+00\t0.000000e+00\t0.0000\t0.0000\t10190700\n",
      "duplication\tchr22:35940001-36200000\t260000\t3.9645\t0.000000e+00\t0.000000e+00\t0.000000e+00\t0.000000e+00\t0.0000\t0.0000\t14164900\n",
      "duplication\tchr22:44150001-44470000\t320000\t3.9391\t0.000000e+00\t0.000000e+00\t0.000000e+00\t0.000000e+00\t0.0001\t0.0000\t5894900\n",
      "duplication\tchr22:46380001-46680000\t300000\t2.9630\t0.000000e+00\t0.000000e+00\t0.000000e+00\t0.000000e+00\t0.0001\t0.0000\t3684900\n"
     ]
    }
   ],
   "source": [
    "calls = app.call([100, 1000, 10000, 100000, 1000000], print_calls=True)"
   ]
  },
  {
   "cell_type": "code",
   "execution_count": 4,
   "metadata": {},
   "outputs": [
    {
     "name": "stdout",
     "output_type": "stream",
     "text": [
      "Bin size:  100\n",
      "Bin size:  1000\n",
      "Bin size:  10000\n",
      "Bin size:  100000\n",
      "Bin size:  1000000\n"
     ]
    }
   ],
   "source": [
    "for bin_size in calls:\n",
    "    print(\"Bin size: \", bin_size)"
   ]
  },
  {
   "cell_type": "code",
   "execution_count": 12,
   "metadata": {},
   "outputs": [
    {
     "name": "stdout",
     "output_type": "stream",
     "text": [
      "\n",
      "(643169,644858) = 1690   2\n",
      "(8039367,8047932) = 8566   3\n",
      "(13480846,13512879) = 32034   8\n",
      "(18704644,18881398) = 176755   7\n",
      "(23607182,23613596) = 6415   4\n",
      "(28465981,28599394) = 133414   6\n",
      "(30804149,30979616) = 175468   6\n",
      "(35940180,36199656) = 259477   4\n",
      "(44149293,44465270) = 315978   4\n",
      "(46379887,46674734) = 294848   3\n",
      "\n"
     ]
    }
   ],
   "source": [
    "print(\n",
    "    \"\"\"\n",
    "(643169,644858) = 1690   2\n",
    "(8039367,8047932) = 8566   3\n",
    "(13480846,13512879) = 32034   8\n",
    "(18704644,18881398) = 176755   7\n",
    "(23607182,23613596) = 6415   4\n",
    "(28465981,28599394) = 133414   6\n",
    "(30804149,30979616) = 175468   6\n",
    "(35940180,36199656) = 259477   4\n",
    "(44149293,44465270) = 315978   4\n",
    "(46379887,46674734) = 294848   3\n",
    "\"\"\"\n",
    ")"
   ]
  },
  {
   "cell_type": "code",
   "execution_count": 16,
   "metadata": {},
   "outputs": [],
   "source": [
    "# Description of each call\n",
    "# type (\"deletion\" or \"duplication\"),\n",
    "# chromosome name, start, end,\n",
    "# size, cnv level\n",
    "# e1, e2, e3, e4 - estimations of p-Value\n",
    "# q0 - percentage of uniquely mapped reads in cnv region"
   ]
  },
  {
   "cell_type": "code",
   "execution_count": 17,
   "metadata": {},
   "outputs": [],
   "source": [
    "for call in calls[100]:\n",
    "    print(call)"
   ]
  },
  {
   "cell_type": "code",
   "execution_count": 18,
   "metadata": {},
   "outputs": [],
   "source": [
    "for call in calls[1000]:\n",
    "    print(call)"
   ]
  },
  {
   "cell_type": "code",
   "execution_count": 19,
   "metadata": {},
   "outputs": [
    {
     "name": "stdout",
     "output_type": "stream",
     "text": [
      "['duplication', 'chr22', 18650001, 18880000, 230000]\n",
      "['duplication', 'chr22', 21460001, 21680000, 220000]\n",
      "['duplication', 'chr22', 28460001, 28600000, 140000]\n",
      "['duplication', 'chr22', 30800001, 30980000, 180000]\n",
      "['duplication', 'chr22', 35940001, 36200000, 260000]\n",
      "['duplication', 'chr22', 44150001, 44470000, 320000]\n",
      "['duplication', 'chr22', 46380001, 46680000, 300000]\n"
     ]
    }
   ],
   "source": [
    "for call in calls[10000]:\n",
    "    print(call[:5])"
   ]
  },
  {
   "cell_type": "code",
   "execution_count": 20,
   "metadata": {},
   "outputs": [],
   "source": [
    "for call in calls[100000]:\n",
    "    print(call)"
   ]
  },
  {
   "cell_type": "code",
   "execution_count": 21,
   "metadata": {},
   "outputs": [],
   "source": [
    "for call in calls[1000000]:\n",
    "    print(call)"
   ]
  },
  {
   "cell_type": "code",
   "execution_count": 22,
   "metadata": {},
   "outputs": [],
   "source": [
    "del app"
   ]
  }
 ],
 "metadata": {
  "kernelspec": {
   "display_name": "venv",
   "language": "python",
   "name": "python3"
  },
  "language_info": {
   "codemirror_mode": {
    "name": "ipython",
    "version": 3
   },
   "file_extension": ".py",
   "mimetype": "text/x-python",
   "name": "python",
   "nbconvert_exporter": "python",
   "pygments_lexer": "ipython3",
   "version": "3.10.6"
  },
  "orig_nbformat": 4
 },
 "nbformat": 4,
 "nbformat_minor": 2
}
